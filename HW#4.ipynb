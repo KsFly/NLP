{
 "cells": [
  {
   "cell_type": "code",
   "execution_count": 4,
   "metadata": {},
   "outputs": [],
   "source": [
    "import re\n",
    "import sys\n",
    "import codecs\n",
    " \n",
    " \n",
    "def filte(input_file):\n",
    "    p1 = re.compile('[（\\(][，；。？！\\s]*[）\\)]')\n",
    "    p2 = re.compile('《》')\n",
    "    p3 = re.compile('「')\n",
    "    p4 = re.compile('」')\n",
    "    p5 = re.compile('{\"id\":')\n",
    "    p6 = re.compile('\"}')\n",
    "    p7 = re.compile('『』')\n",
    "    p8 = re.compile('『')\n",
    "    p9 = re.compile('』')\n",
    "    p10 = re.compile('-\\{.*?(zh-hans|zh-cn):([^;]*?)(;.*?)?\\}-')\n",
    "    p11=re.compile('\"url\": \"https://zh.wikipedia.org/wiki?curid=')\n",
    "    \n",
    "    count=0\n",
    "    input_file1=input_file[10:]\n",
    "    input_file1=input_file1.replace('/','')\n",
    "    outfile = codecs.open(input_file1+'.txt', 'w', 'utf-8')\n",
    "    with codecs.open(input_file, 'r', 'utf-8') as myfile:\n",
    "        for line in myfile:\n",
    "            line=line.replace(r'\\n','')\n",
    "            line=line.replace('\"url\": \"https://zh.wikipedia.org/wiki?curid=','')\n",
    "            line=line.replace('\"title\":','')\n",
    "            line=line.replace('\"text\": \"','')\n",
    "            line = p1.sub('', line)\n",
    "            line = p2.sub('', line)\n",
    "            line = p3.sub('“', line)\n",
    "            line = p4.sub('”', line)\n",
    "            line = p5.sub('', line)\n",
    "            line = p6.sub('', line)\n",
    "            line = p7.sub('', line)\n",
    "            line = p8.sub('“', line)\n",
    "            line = p9.sub('”', line)\n",
    "            line = p10.sub('', line)\n",
    "            outfile.write(line)\n",
    "    outfile.close()\n",
    " \n",
    " \n",
    "if __name__ == '__main__':\n",
    "    input_file = './wiki_zh/AA/wiki_01'\n",
    "    filte(input_file)"
   ]
  },
  {
   "cell_type": "code",
   "execution_count": 22,
   "metadata": {},
   "outputs": [],
   "source": [
    "import os \n",
    "#獲取目標資料夾的路徑 \n",
    "meragefiledir = os.getcwd()+'\\\\test'\n",
    "#獲取當前資料夾中的檔名稱列表 \n",
    "filenames=os.listdir(meragefiledir) \n",
    "#開啟當前目錄下的result.txt檔案，如果沒有則建立\n",
    "file=open('result.txt','w',encoding='utf-8') \n",
    "#向檔案中寫入字元 \n",
    " \n",
    "#先遍歷檔名 \n",
    "for filename in filenames: \n",
    "  filepath=meragefiledir+'\\\\'\n",
    "  filepath=filepath+filename\n",
    "  #遍歷單個檔案，讀取行數 \n",
    "  for line in open(filepath,'r',encoding='utf-8'): \n",
    "    file.writelines(line) \n",
    "  file.write('\\n') \n",
    "#關閉檔案 \n",
    "file.close() "
   ]
  },
  {
   "cell_type": "code",
   "execution_count": null,
   "metadata": {},
   "outputs": [],
   "source": []
  }
 ],
 "metadata": {
  "kernelspec": {
   "display_name": "Python 3",
   "language": "python",
   "name": "python3"
  },
  "language_info": {
   "codemirror_mode": {
    "name": "ipython",
    "version": 3
   },
   "file_extension": ".py",
   "mimetype": "text/x-python",
   "name": "python",
   "nbconvert_exporter": "python",
   "pygments_lexer": "ipython3",
   "version": "3.7.6"
  }
 },
 "nbformat": 4,
 "nbformat_minor": 4
}
