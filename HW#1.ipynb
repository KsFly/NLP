{
 "cells": [
  {
   "cell_type": "code",
   "execution_count": 1,
   "metadata": {},
   "outputs": [
    {
     "name": "stdout",
     "output_type": "stream",
     "text": [
      "Collecting jieba\n",
      "  Downloading jieba-0.42.1.tar.gz (19.2 MB)\n",
      "Building wheels for collected packages: jieba\n",
      "  Building wheel for jieba (setup.py): started\n",
      "  Building wheel for jieba (setup.py): finished with status 'done'\n",
      "  Created wheel for jieba: filename=jieba-0.42.1-py3-none-any.whl size=19314481 sha256=014ace702ac6244001232959946c2c5e711fea5c12c144efee473b4684789b8a\n",
      "  Stored in directory: c:\\users\\user\\appdata\\local\\pip\\cache\\wheels\\24\\aa\\17\\5bc7c72e9a37990a9620cc3aad0acad1564dcff6dbc2359de3\n",
      "Successfully built jieba\n",
      "Installing collected packages: jieba\n",
      "Successfully installed jieba-0.42.1\n",
      "Note: you may need to restart the kernel to use updated packages.\n"
     ]
    }
   ],
   "source": [
    "pip install jieba"
   ]
  },
  {
   "cell_type": "code",
   "execution_count": 24,
   "metadata": {},
   "outputs": [
    {
     "name": "stderr",
     "output_type": "stream",
     "text": [
      "IOPub data rate exceeded.\n",
      "The notebook server will temporarily stop sending output\n",
      "to the client in order to avoid crashing it.\n",
      "To change this limit, set the config variable\n",
      "`--NotebookApp.iopub_data_rate_limit`.\n",
      "\n",
      "Current values:\n",
      "NotebookApp.iopub_data_rate_limit=1000000.0 (bytes/sec)\n",
      "NotebookApp.rate_limit_window=3.0 (secs)\n",
      "\n"
     ]
    },
    {
     "name": "stdout",
     "output_type": "stream",
     "text": [
      "\n",
      "詞頻\n",
      "八卦:79123\n",
      "什麼:57975\n",
      "台灣:35035\n",
      "怎麼:33186\n",
      "可以:23235\n",
      "是不是:21567\n",
      "肥宅:21532\n",
      "真的:16895\n",
      "知道:14111\n",
      "自己:13558\n",
      "不是:11951\n",
      "就是:11024\n",
      "不會:10698\n",
      "如果:10690\n",
      "一個:10592\n",
      "還是:10512\n",
      "一堆:10099\n",
      "中國:10090\n",
      "現在:9710\n",
      "有人:9708\n",
      "這樣:9664\n",
      "時候:8995\n",
      "怎樣:8844\n",
      "女生:8625\n",
      "日本:8589\n",
      "一樣:8525\n",
      "到底:8472\n",
      "不要:8249\n",
      "大家:7887\n",
      "...:7600\n",
      "很多:7481\n",
      "沒有:7293\n",
      "喜歡:6786\n",
      "應該:6771\n",
      "因為:6556\n",
      "看到:6317\n",
      "朋友:6302\n",
      "問題:6165\n",
      "哪個:6112\n",
      "感覺:6081\n",
      "如何:6007\n",
      "這麼:5974\n",
      "多少:5833\n",
      "一直:5686\n",
      "覺得:5577\n",
      "這種:5419\n",
      "不能:5267\n",
      "不用:5229\n",
      "美國:5228\n",
      "根本:4952\n",
      "一定:4863\n",
      "正妹:4792\n",
      "其實:4511\n",
      "只有:4485\n",
      "還有:4322\n",
      "台北:4288\n",
      "那麼:4287\n",
      "為何:4278\n",
      "可能:4249\n",
      "東西:4228\n",
      "以前:4136\n",
      "比較:4050\n",
      "時間:3975\n",
      "開始:3933\n",
      "一下:3930\n",
      "這個:3861\n",
      "妹妹:3816\n",
      "哪裡:3796\n",
      "世界:3793\n",
      "今天:3775\n",
      "出來:3717\n",
      "沒人:3715\n",
      "甚麼:3696\n",
      "所以:3634\n",
      "那個:3586\n",
      "直接:3563\n",
      "發現:3543\n",
      "中國人:3495\n",
      "不到:3493\n",
      "工作:3477\n",
      "國家:3458\n",
      "只是:3397\n",
      "好吃:3341\n",
      "男生:3318\n",
      "他們:3227\n",
      "公司:3199\n",
      "老婆:3155\n",
      "女友:3147\n",
      "老師:2915\n",
      "大學:2876\n",
      "已經:2870\n",
      "變成:2842\n",
      "人家:2840\n",
      "一起:2830\n",
      "我們:2783\n",
      "邊緣:2778\n",
      "南部:2744\n",
      "需要:2726\n",
      "好像:2715\n",
      "結果:2705\n"
     ]
    }
   ],
   "source": [
    "import jieba\n",
    "import re\n",
    "from collections import Counter\n",
    "\n",
    "cut_words=\"\"\n",
    "for line in open(\"hw1-dataset.txt\", encoding='utf-8'):\n",
    "    line.strip('\\n')\n",
    "    line = re.sub(\"[A-Za-z0-9\\：\\·\\—\\，\\。\\“ \\”]\", \"\", line)\n",
    "    seg_list=jieba.cut(line,cut_all=False)\n",
    "    cut_words+=(\" \".join(seg_list))\n",
    "all_words=cut_words.split()\n",
    "print(all_words)\n",
    "c=Counter()\n",
    "for x in all_words:\n",
    "    if len(x)>1 and x != '\\r\\n':\n",
    "        c[x] += 1\n",
    "\n",
    "print('\\n詞頻')\n",
    "for (k,v) in c.most_common(100):\n",
    "    print(\"%s:%d\"%(k,v/len(all_words)))"
   ]
  },
  {
   "cell_type": "code",
   "execution_count": 26,
   "metadata": {
    "scrolled": true
   },
   "outputs": [
    {
     "data": {
      "text/plain": [
       "0.0003935760244834842"
      ]
     },
     "execution_count": 26,
     "metadata": {},
     "output_type": "execute_result"
    }
   ],
   "source": []
  },
  {
   "cell_type": "code",
   "execution_count": null,
   "metadata": {},
   "outputs": [],
   "source": []
  }
 ],
 "metadata": {
  "kernelspec": {
   "display_name": "Python 3",
   "language": "python",
   "name": "python3"
  },
  "language_info": {
   "codemirror_mode": {
    "name": "ipython",
    "version": 3
   },
   "file_extension": ".py",
   "mimetype": "text/x-python",
   "name": "python",
   "nbconvert_exporter": "python",
   "pygments_lexer": "ipython3",
   "version": "3.7.6"
  }
 },
 "nbformat": 4,
 "nbformat_minor": 4
}
