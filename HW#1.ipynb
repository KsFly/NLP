{
 "cells": [
  {
   "cell_type": "code",
   "execution_count": 66,
   "metadata": {},
   "outputs": [],
   "source": [
    "import math\n",
    "import jieba\n",
    "import re\n",
    "from collections import Counter\n",
    "import matplotlib.pyplot as plt\n",
    "import pandas as pd"
   ]
  },
  {
   "cell_type": "code",
   "execution_count": 44,
   "metadata": {},
   "outputs": [
    {
     "name": "stderr",
     "output_type": "stream",
     "text": [
      "IOPub data rate exceeded.\n",
      "The notebook server will temporarily stop sending output\n",
      "to the client in order to avoid crashing it.\n",
      "To change this limit, set the config variable\n",
      "`--NotebookApp.iopub_data_rate_limit`.\n",
      "\n",
      "Current values:\n",
      "NotebookApp.iopub_data_rate_limit=1000000.0 (bytes/sec)\n",
      "NotebookApp.rate_limit_window=3.0 (secs)\n",
      "\n"
     ]
    },
    {
     "name": "stdout",
     "output_type": "stream",
     "text": [
      "\n",
      "詞頻TF\n",
      "八卦:0.011982\n",
      "什麼:0.008781\n",
      "台灣:0.005288\n",
      "怎麼:0.005025\n",
      "可以:0.003519\n",
      "是不是:0.003266\n",
      "肥宅:0.003253\n",
      "真的:0.002559\n",
      "知道:0.002137\n",
      "自己:0.002053\n",
      "不是:0.001810\n",
      "就是:0.001669\n",
      "不會:0.001621\n",
      "如果:0.001619\n",
      "一個:0.001604\n",
      "還是:0.001590\n",
      "一堆:0.001529\n",
      "中國:0.001522\n",
      "有人:0.001473\n",
      "這樣:0.001463\n",
      "現在:0.001450\n",
      "時候:0.001363\n",
      "怎樣:0.001339\n",
      "女生:0.001305\n",
      "日本:0.001301\n",
      "一樣:0.001291\n",
      "到底:0.001283\n",
      "不要:0.001249\n",
      "大家:0.001194\n",
      "很多:0.001133\n",
      "沒有:0.001096\n",
      "喜歡:0.001027\n",
      "應該:0.001023\n",
      "因為:0.000992\n",
      "看到:0.000957\n",
      "朋友:0.000954\n",
      "問題:0.000933\n",
      "哪個:0.000925\n",
      "感覺:0.000919\n",
      "如何:0.000910\n",
      "這麼:0.000906\n",
      "多少:0.000883\n",
      "一直:0.000861\n",
      "覺得:0.000849\n",
      "這種:0.000821\n",
      "不能:0.000797\n",
      "不用:0.000792\n",
      "美國:0.000787\n",
      "根本:0.000750\n",
      "一定:0.000736\n",
      "正妹:0.000724\n",
      "其實:0.000682\n",
      "只有:0.000679\n",
      "還有:0.000654\n",
      "那麼:0.000649\n",
      "台北:0.000649\n",
      "為何:0.000645\n",
      "可能:0.000643\n",
      "東西:0.000638\n",
      "以前:0.000626\n",
      "比較:0.000610\n",
      "時間:0.000603\n",
      "開始:0.000596\n",
      "一下:0.000595\n",
      "這個:0.000584\n",
      "妹妹:0.000578\n",
      "哪裡:0.000575\n",
      "世界:0.000574\n",
      "今天:0.000572\n",
      "出來:0.000564\n",
      "沒人:0.000563\n",
      "甚麼:0.000560\n",
      "所以:0.000550\n",
      "那個:0.000543\n",
      "直接:0.000540\n",
      "發現:0.000536\n",
      "不到:0.000529\n",
      "中國人:0.000528\n",
      "工作:0.000526\n",
      "國家:0.000520\n",
      "只是:0.000514\n",
      "好吃:0.000506\n",
      "男生:0.000502\n",
      "他們:0.000489\n",
      "公司:0.000484\n",
      "老婆:0.000477\n",
      "女友:0.000477\n",
      "老師:0.000441\n",
      "已經:0.000434\n",
      "大學:0.000434\n",
      "人家:0.000430\n",
      "變成:0.000429\n",
      "一起:0.000429\n",
      "我們:0.000421\n",
      "邊緣:0.000420\n",
      "南部:0.000415\n",
      "需要:0.000413\n",
      "好像:0.000411\n",
      "結果:0.000409\n",
      "而已:0.000405\n"
     ]
    }
   ],
   "source": [
    "cut_words=\"\"\n",
    "for line in open(\"hw1-dataset.txt\", encoding='utf-8'):\n",
    "    for ch in '!\"#$%&()*+,-./:;<=>?@[\\\\]^_’‘{|}~':\n",
    "        line = line.replace(ch,\" \")\n",
    "    line.strip('\\n')\n",
    "    line = re.sub(\"[A-Za-z0-9\\：\\·\\—\\，\\。\\“ \\”]\", \"\", line)\n",
    "    seg_list=jieba.cut(line,cut_all=False)\n",
    "    cut_words+=(\" \".join(seg_list))\n",
    "all_words=cut_words.split()\n",
    "\n",
    "print(all_words)\n",
    "c=Counter()\n",
    "for x in all_words:\n",
    "    if len(x)>1 and x != '\\r\\n':\n",
    "        c[x] += 1\n",
    "\n",
    "print('\\n詞頻TF')\n",
    "for (k,v) in c.most_common(100):\n",
    "    print(\"%s:%f\"%(k,v/len(all_words)))"
   ]
  },
  {
   "cell_type": "code",
   "execution_count": 60,
   "metadata": {
    "scrolled": true
   },
   "outputs": [
    {
     "name": "stdout",
     "output_type": "stream",
     "text": [
      "\n",
      "TF-IDF\n",
      "八卦:0.008664\n",
      "什麼:0.007534\n",
      "台灣:0.005702\n",
      "怎麼:0.005530\n",
      "可以:0.004417\n",
      "是不是:0.004205\n",
      "肥宅:0.004194\n",
      "真的:0.003566\n",
      "知道:0.003145\n",
      "自己:0.003057\n",
      "不是:0.002794\n",
      "就是:0.002636\n",
      "不會:0.002581\n",
      "如果:0.002578\n",
      "一個:0.002561\n",
      "還是:0.002545\n",
      "一堆:0.002473\n",
      "中國:0.002465\n",
      "有人:0.002405\n",
      "這樣:0.002395\n",
      "現在:0.002379\n",
      "時候:0.002273\n",
      "怎樣:0.002243\n",
      "女生:0.002201\n",
      "日本:0.002195\n",
      "一樣:0.002183\n",
      "到底:0.002173\n",
      "不要:0.002130\n",
      "大家:0.002060\n",
      "很多:0.001980\n",
      "沒有:0.001931\n",
      "喜歡:0.001839\n",
      "應該:0.001833\n",
      "因為:0.001790\n",
      "看到:0.001742\n",
      "朋友:0.001738\n",
      "問題:0.001710\n",
      "哪個:0.001698\n",
      "感覺:0.001689\n",
      "如何:0.001676\n",
      "這麼:0.001670\n",
      "多少:0.001639\n",
      "一直:0.001607\n",
      "覺得:0.001589\n",
      "這種:0.001549\n",
      "不能:0.001515\n",
      "不用:0.001507\n",
      "美國:0.001499\n",
      "根本:0.001445\n",
      "一定:0.001425\n",
      "正妹:0.001407\n",
      "其實:0.001342\n",
      "只有:0.001338\n",
      "還有:0.001299\n",
      "那麼:0.001292\n",
      "台北:0.001291\n",
      "為何:0.001285\n",
      "可能:0.001282\n",
      "東西:0.001274\n",
      "以前:0.001256\n",
      "比較:0.001231\n",
      "時間:0.001218\n",
      "開始:0.001207\n",
      "一下:0.001206\n",
      "這個:0.001189\n",
      "妹妹:0.001179\n",
      "哪裡:0.001174\n",
      "世界:0.001173\n",
      "今天:0.001169\n",
      "出來:0.001156\n",
      "沒人:0.001154\n",
      "甚麼:0.001149\n",
      "所以:0.001134\n",
      "那個:0.001122\n",
      "直接:0.001117\n",
      "發現:0.001111\n",
      "不到:0.001099\n",
      "中國人:0.001099\n",
      "工作:0.001095\n",
      "國家:0.001085\n",
      "只是:0.001075\n",
      "好吃:0.001061\n",
      "男生:0.001055\n",
      "他們:0.001032\n",
      "公司:0.001025\n",
      "老婆:0.001013\n",
      "女友:0.001012\n",
      "老師:0.000952\n",
      "已經:0.000940\n",
      "大學:0.000939\n",
      "人家:0.000933\n",
      "變成:0.000931\n",
      "一起:0.000930\n",
      "我們:0.000917\n",
      "邊緣:0.000915\n",
      "南部:0.000907\n",
      "需要:0.000902\n",
      "好像:0.000899\n",
      "結果:0.000895\n",
      "而已:0.000889\n"
     ]
    }
   ],
   "source": [
    "myfile = open(\"hw1-dataset.txt\", encoding='utf-8') \n",
    "lines = len(myfile.readlines()) \n",
    "#print(\"There are %d lines\"%(lines))\n",
    "\n",
    "d=Counter()\n",
    "for x in all_words:\n",
    "    if len(x)>1 and x != '\\r\\n':\n",
    "        d[x] = (math.log((lines/c[x]),10))*(c[x]/len(all_words))\n",
    "\n",
    "print('\\nTF-IDF')\n",
    "for (k,v) in d.most_common(100):\n",
    "    print(\"%s:%f\"%(k,v))"
   ]
  },
  {
   "cell_type": "code",
   "execution_count": 127,
   "metadata": {
    "scrolled": true
   },
   "outputs": [
    {
     "name": "stdout",
     "output_type": "stream",
     "text": [
      "TF\n",
      "\n"
     ]
    },
    {
     "data": {
      "image/png": "[encoded data removed]",
      "text/plain": [
       "<Figure size 432x288 with 1 Axes>"
      ]
     },
     "metadata": {
      "needs_background": "light"
     },
     "output_type": "display_data"
    }
   ],
   "source": [
    "print(\"TF\\n\")\n",
    "ypt=[]\n",
    "for (k,v) in c.most_common(100):\n",
    "    ypt.append(v/len(all_words))\n",
    "xpt = list(range(1,101))\n",
    "\n",
    "plt.plot(xpt,ypt) #畫線\n",
    "plt.show() #顯示繪製的圖形"
   ]
  },
  {
   "cell_type": "code",
   "execution_count": 128,
   "metadata": {},
   "outputs": [
    {
     "name": "stdout",
     "output_type": "stream",
     "text": [
      "TF-IDF\n",
      "\n"
     ]
    },
    {
     "data": {
      "image/png": "[encoded data removed]",
      "text/plain": [
       "<Figure size 432x288 with 1 Axes>"
      ]
     },
     "metadata": {
      "needs_background": "light"
     },
     "output_type": "display_data"
    }
   ],
   "source": [
    "print(\"TF-IDF\\n\")\n",
    "ypt=[]\n",
    "for (k,v) in d.most_common(100):\n",
    "    ypt.append(v)\n",
    "xpt = list(range(1,101))\n",
    "\n",
    "plt.plot(xpt,ypt) #畫線\n",
    "plt.show() #顯示繪製的圖形"
   ]
  },
  {
   "cell_type": "code",
   "execution_count": null,
   "metadata": {},
   "outputs": [],
   "source": []
  }
 ],
 "metadata": {
  "kernelspec": {
   "display_name": "Python 3",
   "language": "python",
   "name": "python3"
  },
  "language_info": {
   "codemirror_mode": {
    "name": "ipython",
    "version": 3
   },
   "file_extension": ".py",
   "mimetype": "text/x-python",
   "name": "python",
   "nbconvert_exporter": "python",
   "pygments_lexer": "ipython3",
   "version": "3.7.6"
  }
 },
 "nbformat": 4,
 "nbformat_minor": 4
}
