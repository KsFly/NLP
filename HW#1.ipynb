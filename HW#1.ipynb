{
 "cells": [
  {
   "cell_type": "code",
   "execution_count": 1,
   "metadata": {},
   "outputs": [
    {
     "name": "stdout",
     "output_type": "stream",
     "text": [
      "Collecting jieba\n",
      "  Downloading jieba-0.42.1.tar.gz (19.2 MB)\n",
      "Building wheels for collected packages: jieba\n",
      "  Building wheel for jieba (setup.py): started\n",
      "  Building wheel for jieba (setup.py): finished with status 'done'\n",
      "  Created wheel for jieba: filename=jieba-0.42.1-py3-none-any.whl size=19314481 sha256=014ace702ac6244001232959946c2c5e711fea5c12c144efee473b4684789b8a\n",
      "  Stored in directory: c:\\users\\user\\appdata\\local\\pip\\cache\\wheels\\24\\aa\\17\\5bc7c72e9a37990a9620cc3aad0acad1564dcff6dbc2359de3\n",
      "Successfully built jieba\n",
      "Installing collected packages: jieba\n",
      "Successfully installed jieba-0.42.1\n",
      "Note: you may need to restart the kernel to use updated packages.\n"
     ]
    }
   ],
   "source": [
    "pip install jieba"
   ]
  },
  {
   "cell_type": "code",
   "execution_count": 9,
   "metadata": {},
   "outputs": [
    {
     "data": {
      "text/plain": [
       "[('什麼', 0.1955337152503071),\n",
       " ('八卦', 0.19509162152253576),\n",
       " ('台灣', 0.12136563755953532),\n",
       " ('怎麼', 0.11237772180486832),\n",
       " ('肥宅', 0.07370090918826931),\n",
       " ('現在', 0.03818256188206741),\n",
       " ('不會', 0.036395134568144936),\n",
       " ('還是', 0.03584671936955509),\n",
       " ('是不是', 0.035738850030608615),\n",
       " ('一個', 0.03566391430335847),\n",
       " ('中國', 0.03463140420724795),\n",
       " ('這樣', 0.0327390332442126),\n",
       " ('怎樣', 0.02999695725126335),\n",
       " ('時候', 0.029810766906063095),\n",
       " ('一樣', 0.028822265436999908),\n",
       " ('真的', 0.026945109987831815),\n",
       " ('沒有', 0.026218985883199937),\n",
       " ('應該', 0.02370710886249828),\n",
       " ('可以', 0.02306309029545516),\n",
       " ('喜歡', 0.022958962202693608),\n",
       " ('因為', 0.02251887593222027),\n",
       " ('一堆', 0.0217794358413037),\n",
       " ('問題', 0.020910868405490772),\n",
       " ('感覺', 0.02080931003538154),\n",
       " ('哪個', 0.020738219176305077),\n",
       " ('女生', 0.02064915545692621),\n",
       " ('這麼', 0.020054392817569586),\n",
       " ('覺得', 0.01871043705312409),\n",
       " ('這種', 0.018327900525712648),\n",
       " ('美國', 0.01813832490150875),\n",
       " ('正妹', 0.016361053424597198),\n",
       " ('知道', 0.015883388939326577),\n",
       " ('其實', 0.015650144833832577),\n",
       " ('為何', 0.015111885472253651),\n",
       " ('還有', 0.014803825082922314),\n",
       " ('東西', 0.01478689868790411),\n",
       " ('比較', 0.014583781947685647),\n",
       " ('那麼', 0.014434829671525441),\n",
       " ('到底', 0.013919186670639162),\n",
       " ('有人', 0.013736989728452637),\n",
       " ('自己', 0.013527902146062948),\n",
       " ('QQ', 0.013507263224527792),\n",
       " ('時間', 0.013422631249436767),\n",
       " ('開始', 0.013266908415269278),\n",
       " ('這個', 0.013033324164018046),\n",
       " ('哪裡', 0.01288437188785784),\n",
       " ('不是', 0.012816936108994767),\n",
       " ('沒人', 0.012610164288562915),\n",
       " ('甚麼', 0.012525532313471888),\n",
       " ('出來', 0.012376580037311681),\n",
       " ('日本', 0.012182938873514376),\n",
       " ('那個', 0.012109142996024039),\n",
       " ('發現', 0.0120482079739585),\n",
       " ('中國人', 0.012031281578940295),\n",
       " ('國家', 0.012031281578940295),\n",
       " ('如果', 0.01200598283341416),\n",
       " ('不要', 0.011423894027216558),\n",
       " ('就是', 0.011229414511307573),\n",
       " ('他們', 0.010900598391724184),\n",
       " ('大家', 0.010878594009660203),\n",
       " ('朋友', 0.010436185546726968),\n",
       " ('很多', 0.010301535153875264),\n",
       " ('台北', 0.010136216612092547),\n",
       " ('已經', 0.01001704057177387),\n",
       " ('老師', 0.009962876107715613),\n",
       " ('大學', 0.009942564433693766),\n",
       " ('變成', 0.009739447693475303),\n",
       " ('邊緣', 0.00950247816322043),\n",
       " ('我們', 0.009431387304143968),\n",
       " ('結果', 0.009431387304143968),\n",
       " ('遊戲', 0.009106400519794427),\n",
       " ('不用', 0.008899288256820528),\n",
       " ('10', 0.008818651804484937),\n",
       " ('手機', 0.008784799014448527),\n",
       " ('一點', 0.008757716782419399),\n",
       " ('看到', 0.008710485725839328),\n",
       " ('多少', 0.008709686940614934),\n",
       " ('男生', 0.008591205757724202),\n",
       " ('別人', 0.008574911716222782),\n",
       " ('當然', 0.008520747252164526),\n",
       " ('女友', 0.008289998704362589),\n",
       " ('如何', 0.008125034250956063),\n",
       " ('還好', 0.008104357934716675),\n",
       " ('電影', 0.008050193470658419),\n",
       " ('新聞', 0.008050193470658419),\n",
       " ('還要', 0.008040037633647495),\n",
       " ('韓國', 0.008023111238629291),\n",
       " ('鄉民', 0.00798925844859288),\n",
       " ('起來', 0.007806453382396263),\n",
       " ('根本', 0.0077547769927198236),\n",
       " ('XD', 0.0077353625233198015),\n",
       " ('好吃', 0.007613759989191815),\n",
       " ('妹妹', 0.007584797449807198),\n",
       " ('的掛', 0.007572869131145031),\n",
       " ('不過', 0.007383293506941131),\n",
       " ('一直', 0.0073365541724427046),\n",
       " ('ptt', 0.007142938697682617),\n",
       " ('最強', 0.007010912816540617),\n",
       " ('請問', 0.0067570168912675374),\n",
       " ('結婚', 0.006682540753187434)]"
      ]
     },
     "execution_count": 9,
     "metadata": {},
     "output_type": "execute_result"
    }
   ],
   "source": [
    "import jieba\n",
    "import jieba.analyse\n",
    "\n",
    "#content = open(\"test.txt\", 'rb').read()\n",
    "content = open(\"hw1-dataset.txt\", encoding='utf-8').read()\n",
    "\n",
    "for ch in '!\"#$%&()*+,-./:;<=>?@[\\\\]^_’‘{|}~': # 將文本中的特殊符號都用空格替代\n",
    "        content = content.replace(ch,\" \")\n",
    "\n",
    "jieba.analyse.extract_tags(content, topK=100, withWeight=True, allowPOS=())"
   ]
  },
  {
   "cell_type": "code",
   "execution_count": 11,
   "metadata": {
    "scrolled": true
   },
   "outputs": [
    {
     "ename": "AttributeError",
     "evalue": "'list' object has no attribute 'decode'",
     "output_type": "error",
     "traceback": [
      "\u001b[1;31m---------------------------------------------------------------------------\u001b[0m",
      "\u001b[1;31mAttributeError\u001b[0m                            Traceback (most recent call last)",
      "\u001b[1;32m<ipython-input-11-c19ba647c929>\u001b[0m in \u001b[0;36m<module>\u001b[1;34m\u001b[0m\n\u001b[0;32m      1\u001b[0m \u001b[0mcontent2\u001b[0m\u001b[1;33m=\u001b[0m\u001b[0mjieba\u001b[0m\u001b[1;33m.\u001b[0m\u001b[0mlcut\u001b[0m\u001b[1;33m(\u001b[0m\u001b[0mcontent\u001b[0m\u001b[1;33m)\u001b[0m\u001b[1;33m\u001b[0m\u001b[1;33m\u001b[0m\u001b[0m\n\u001b[1;32m----> 2\u001b[1;33m \u001b[0mjieba\u001b[0m\u001b[1;33m.\u001b[0m\u001b[0manalyse\u001b[0m\u001b[1;33m.\u001b[0m\u001b[0mextract_tags\u001b[0m\u001b[1;33m(\u001b[0m\u001b[0mcontent2\u001b[0m\u001b[1;33m,\u001b[0m \u001b[0mtopK\u001b[0m\u001b[1;33m=\u001b[0m\u001b[1;36m100\u001b[0m\u001b[1;33m,\u001b[0m \u001b[0mwithWeight\u001b[0m\u001b[1;33m=\u001b[0m\u001b[1;32mTrue\u001b[0m\u001b[1;33m,\u001b[0m \u001b[0mallowPOS\u001b[0m\u001b[1;33m=\u001b[0m\u001b[1;33m(\u001b[0m\u001b[1;33m)\u001b[0m\u001b[1;33m)\u001b[0m\u001b[1;33m\u001b[0m\u001b[1;33m\u001b[0m\u001b[0m\n\u001b[0m",
      "\u001b[1;32mD:\\Anaconda\\lib\\site-packages\\jieba\\analyse\\tfidf.py\u001b[0m in \u001b[0;36mextract_tags\u001b[1;34m(self, sentence, topK, withWeight, allowPOS, withFlag)\u001b[0m\n\u001b[0;32m     92\u001b[0m             \u001b[0mwords\u001b[0m \u001b[1;33m=\u001b[0m \u001b[0mself\u001b[0m\u001b[1;33m.\u001b[0m\u001b[0mtokenizer\u001b[0m\u001b[1;33m.\u001b[0m\u001b[0mcut\u001b[0m\u001b[1;33m(\u001b[0m\u001b[0msentence\u001b[0m\u001b[1;33m)\u001b[0m\u001b[1;33m\u001b[0m\u001b[1;33m\u001b[0m\u001b[0m\n\u001b[0;32m     93\u001b[0m         \u001b[0mfreq\u001b[0m \u001b[1;33m=\u001b[0m \u001b[1;33m{\u001b[0m\u001b[1;33m}\u001b[0m\u001b[1;33m\u001b[0m\u001b[1;33m\u001b[0m\u001b[0m\n\u001b[1;32m---> 94\u001b[1;33m         \u001b[1;32mfor\u001b[0m \u001b[0mw\u001b[0m \u001b[1;32min\u001b[0m \u001b[0mwords\u001b[0m\u001b[1;33m:\u001b[0m\u001b[1;33m\u001b[0m\u001b[1;33m\u001b[0m\u001b[0m\n\u001b[0m\u001b[0;32m     95\u001b[0m             \u001b[1;32mif\u001b[0m \u001b[0mallowPOS\u001b[0m\u001b[1;33m:\u001b[0m\u001b[1;33m\u001b[0m\u001b[1;33m\u001b[0m\u001b[0m\n\u001b[0;32m     96\u001b[0m                 \u001b[1;32mif\u001b[0m \u001b[0mw\u001b[0m\u001b[1;33m.\u001b[0m\u001b[0mflag\u001b[0m \u001b[1;32mnot\u001b[0m \u001b[1;32min\u001b[0m \u001b[0mallowPOS\u001b[0m\u001b[1;33m:\u001b[0m\u001b[1;33m\u001b[0m\u001b[1;33m\u001b[0m\u001b[0m\n",
      "\u001b[1;32mD:\\Anaconda\\lib\\site-packages\\jieba\\__init__.py\u001b[0m in \u001b[0;36mcut\u001b[1;34m(self, sentence, cut_all, HMM, use_paddle)\u001b[0m\n\u001b[0;32m    298\u001b[0m         \"\"\"\n\u001b[0;32m    299\u001b[0m         \u001b[0mis_paddle_installed\u001b[0m \u001b[1;33m=\u001b[0m \u001b[0mcheck_paddle_install\u001b[0m\u001b[1;33m[\u001b[0m\u001b[1;34m'is_paddle_installed'\u001b[0m\u001b[1;33m]\u001b[0m\u001b[1;33m\u001b[0m\u001b[1;33m\u001b[0m\u001b[0m\n\u001b[1;32m--> 300\u001b[1;33m         \u001b[0msentence\u001b[0m \u001b[1;33m=\u001b[0m \u001b[0mstrdecode\u001b[0m\u001b[1;33m(\u001b[0m\u001b[0msentence\u001b[0m\u001b[1;33m)\u001b[0m\u001b[1;33m\u001b[0m\u001b[1;33m\u001b[0m\u001b[0m\n\u001b[0m\u001b[0;32m    301\u001b[0m         \u001b[1;32mif\u001b[0m \u001b[0muse_paddle\u001b[0m \u001b[1;32mand\u001b[0m \u001b[0mis_paddle_installed\u001b[0m\u001b[1;33m:\u001b[0m\u001b[1;33m\u001b[0m\u001b[1;33m\u001b[0m\u001b[0m\n\u001b[0;32m    302\u001b[0m             \u001b[1;31m# if sentence is null, it will raise core exception in paddle.\u001b[0m\u001b[1;33m\u001b[0m\u001b[1;33m\u001b[0m\u001b[1;33m\u001b[0m\u001b[0m\n",
      "\u001b[1;32mD:\\Anaconda\\lib\\site-packages\\jieba\\_compat.py\u001b[0m in \u001b[0;36mstrdecode\u001b[1;34m(sentence)\u001b[0m\n\u001b[0;32m     77\u001b[0m     \u001b[1;32mif\u001b[0m \u001b[1;32mnot\u001b[0m \u001b[0misinstance\u001b[0m\u001b[1;33m(\u001b[0m\u001b[0msentence\u001b[0m\u001b[1;33m,\u001b[0m \u001b[0mtext_type\u001b[0m\u001b[1;33m)\u001b[0m\u001b[1;33m:\u001b[0m\u001b[1;33m\u001b[0m\u001b[1;33m\u001b[0m\u001b[0m\n\u001b[0;32m     78\u001b[0m         \u001b[1;32mtry\u001b[0m\u001b[1;33m:\u001b[0m\u001b[1;33m\u001b[0m\u001b[1;33m\u001b[0m\u001b[0m\n\u001b[1;32m---> 79\u001b[1;33m             \u001b[0msentence\u001b[0m \u001b[1;33m=\u001b[0m \u001b[0msentence\u001b[0m\u001b[1;33m.\u001b[0m\u001b[0mdecode\u001b[0m\u001b[1;33m(\u001b[0m\u001b[1;34m'utf-8'\u001b[0m\u001b[1;33m)\u001b[0m\u001b[1;33m\u001b[0m\u001b[1;33m\u001b[0m\u001b[0m\n\u001b[0m\u001b[0;32m     80\u001b[0m         \u001b[1;32mexcept\u001b[0m \u001b[0mUnicodeDecodeError\u001b[0m\u001b[1;33m:\u001b[0m\u001b[1;33m\u001b[0m\u001b[1;33m\u001b[0m\u001b[0m\n\u001b[0;32m     81\u001b[0m             \u001b[0msentence\u001b[0m \u001b[1;33m=\u001b[0m \u001b[0msentence\u001b[0m\u001b[1;33m.\u001b[0m\u001b[0mdecode\u001b[0m\u001b[1;33m(\u001b[0m\u001b[1;34m'gbk'\u001b[0m\u001b[1;33m,\u001b[0m \u001b[1;34m'ignore'\u001b[0m\u001b[1;33m)\u001b[0m\u001b[1;33m\u001b[0m\u001b[1;33m\u001b[0m\u001b[0m\n",
      "\u001b[1;31mAttributeError\u001b[0m: 'list' object has no attribute 'decode'"
     ]
    }
   ],
   "source": [
    "content2=jieba.lcut(content)\n",
    "jieba.analyse.extract_tags(content2, topK=100, withWeight=True, allowPOS=())"
   ]
  },
  {
   "cell_type": "code",
   "execution_count": null,
   "metadata": {},
   "outputs": [],
   "source": []
  },
  {
   "cell_type": "code",
   "execution_count": null,
   "metadata": {},
   "outputs": [],
   "source": []
  }
 ],
 "metadata": {
  "kernelspec": {
   "display_name": "Python 3",
   "language": "python",
   "name": "python3"
  },
  "language_info": {
   "codemirror_mode": {
    "name": "ipython",
    "version": 3
   },
   "file_extension": ".py",
   "mimetype": "text/x-python",
   "name": "python",
   "nbconvert_exporter": "python",
   "pygments_lexer": "ipython3",
   "version": "3.7.6"
  }
 },
 "nbformat": 4,
 "nbformat_minor": 4
}
