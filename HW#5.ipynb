{
 "cells": [
  {
   "cell_type": "code",
   "execution_count": 1,
   "metadata": {},
   "outputs": [],
   "source": [
    "import json\n",
    "\n",
    "file = open('translation2019zh_train.json' , 'r',encoding='utf-8') \n",
    "\n",
    "en_data=[]\n",
    "ch_data=[]\n",
    "\n",
    "for line in file.readlines():\n",
    "    tmp=json.loads(line)\n",
    "    en_data.append(tmp['english'])\n",
    "    ch_data.append(tmp['chinese'])\n",
    "\n",
    "#print(en[5161433])\n",
    "#print(ch[5161433])\n",
    "#print(en[:10])\n",
    "#print(ch[:10])\n",
    "\n",
    "file.close()"
   ]
  },
  {
   "cell_type": "code",
   "execution_count": 2,
   "metadata": {},
   "outputs": [],
   "source": [
    "# 分別生成中英文字典\n",
    "en_vocab = set(''.join(en_data))\n",
    "id2en = list(en_vocab)\n",
    "en2id = {c:i for i,c in enumerate(id2en)}\n",
    "\n",
    "# 分別生成中英文字典\n",
    "ch_vocab = set(''.join(ch_data))\n",
    "id2ch = list(ch_vocab)\n",
    "ch2id = {c:i for i,c in enumerate(id2ch)}\n",
    "\n",
    "#print(en2id)"
   ]
  },
  {
   "cell_type": "code",
   "execution_count": 3,
   "metadata": {},
   "outputs": [
    {
     "name": "stdout",
     "output_type": "stream",
     "text": [
      "char: He calls the Green Book, his book of teachings, “the new gospel.\n",
      "index: [1091, 3019, 1055, 3587, 2264, 1950, 1950, 1681, 1055, 702, 127, 3019, 1055, 3205, 131, 3019, 3019, 3556, 1055, 696, 3467, 3467, 2486, 2363, 1055, 127, 556, 1681, 1055, 581, 3467, 3467, 2486, 1055, 3467, 2724, 1055, 702, 3019, 2264, 3587, 127, 556, 3556, 1801, 1681, 2363, 1055, 2148, 702, 127, 3019, 1055, 3556, 3019, 3557, 1055, 1801, 3467, 1681, 3336, 3019, 1950, 232]\n"
     ]
    }
   ],
   "source": [
    "en_num_data = [[en2id[en] for en in line ] for line in en_data]\n",
    "ch_num_data = [[ch2id[ch] for ch in line] for line in ch_data]\n",
    "de_num_data = [[ch2id[ch] for ch in line][1:] for line in ch_data]\n",
    "\n",
    "print('char:', en_data[1])\n",
    "print('index:', en_num_data[1])"
   ]
  },
  {
   "cell_type": "code",
   "execution_count": null,
   "metadata": {},
   "outputs": [],
   "source": []
  }
 ],
 "metadata": {
  "kernelspec": {
   "display_name": "Python 3",
   "language": "python",
   "name": "python3"
  },
  "language_info": {
   "codemirror_mode": {
    "name": "ipython",
    "version": 3
   },
   "file_extension": ".py",
   "mimetype": "text/x-python",
   "name": "python",
   "nbconvert_exporter": "python",
   "pygments_lexer": "ipython3",
   "version": "3.7.6"
  }
 },
 "nbformat": 4,
 "nbformat_minor": 4
}
