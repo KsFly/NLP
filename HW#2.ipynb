{
 "cells": [
  {
   "cell_type": "code",
   "execution_count": 10,
   "metadata": {},
   "outputs": [],
   "source": [
    "import requests\n",
    "from bs4 import BeautifulSoup\n",
    "\n",
    "url = 'https://movies.yahoo.com.tw/movieinfo_main/2'\n",
    "response = requests.get(url=url)\n",
    "\n",
    "soup = BeautifulSoup(response.text, 'lxml')"
   ]
  },
  {
   "cell_type": "code",
   "execution_count": 24,
   "metadata": {},
   "outputs": [
    {
     "name": "stdout",
     "output_type": "stream",
     "text": [
      "玩命關頭,The Fast and the Furious,2001-10-13,動作\n"
     ]
    }
   ],
   "source": [
    "info_items = soup.find_all('div', 'table')\n",
    "\n",
    "for item in info_items:\n",
    "    name = item.find('div', 'movie_intro_info_r').h1.text.strip()\n",
    "    english_name = item.find('div', 'movie_intro_info_r').h3.text.strip()\n",
    "    release_time = item.find('div', 'movie_intro_info_r').span.text.split('：')[-1].strip()\n",
    "    level_items = soup.find_all('div', 'level_name_box')\n",
    "    for item in level_items:\n",
    "        level = item.find('div', 'level_name').a.text.strip()\n",
    "    \n",
    "    print('{},{},{},{}'.format(name, english_name, release_time, level))"
   ]
  },
  {
   "cell_type": "code",
   "execution_count": null,
   "metadata": {},
   "outputs": [],
   "source": []
  }
 ],
 "metadata": {
  "kernelspec": {
   "display_name": "Python 3",
   "language": "python",
   "name": "python3"
  },
  "language_info": {
   "codemirror_mode": {
    "name": "ipython",
    "version": 3
   },
   "file_extension": ".py",
   "mimetype": "text/x-python",
   "name": "python",
   "nbconvert_exporter": "python",
   "pygments_lexer": "ipython3",
   "version": "3.7.6"
  }
 },
 "nbformat": 4,
 "nbformat_minor": 4
}
