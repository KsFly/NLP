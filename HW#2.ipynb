{
 "cells": [
  {
   "cell_type": "code",
   "execution_count": 129,
   "metadata": {},
   "outputs": [],
   "source": [
    "import requests\n",
    "from bs4 import BeautifulSoup\n",
    "\n",
    "url = 'https://movies.yahoo.com.tw/movieinfo_main/11460'\n",
    "response = requests.get(url=url)\n",
    "\n",
    "soup = BeautifulSoup(response.text, 'lxml')"
   ]
  },
  {
   "cell_type": "code",
   "execution_count": 130,
   "metadata": {},
   "outputs": [
    {
     "name": "stdout",
     "output_type": "stream",
     "text": [
      "超越無限2分鐘,Beyond the Infinite Two Minutes,2021-09-10,['劇情'],★日本新銳導演 山口淳太 手機拍攝一鏡到底 趣味巧思拆解時空謎題\r\n",
      "★金馬奇幻影展口碑爆棚  腦洞大開的瘋狂喜劇 劇情翻轉到最後一刻！\r\n",
      "★ 一群人 一台電腦螢幕 一間平凡無奇的咖啡廳 竟揭開預知未來的神奇方法！\r\n",
      "★２分鐘就足以造成時空大亂？恣意竄改時間 小心引發不可收拾的後果\r\n",
      "★如果可以掌握自己的命運 你最想要改變什麼？\r\n",
      " \r\n",
      "一間平凡的咖啡店，老闆加藤(土佐和成 飾)在打烊後回到二樓的住處，卻突然被電腦螢幕中的自己叫住，對方聲稱是來自兩分鐘後的自己。原來，他的住處和一樓咖啡廳有兩分鐘的時間差，隨著店員和常客陸續加入驗證，不僅勾起他們對未來的好奇心，更試圖將兩分鐘延長，然而改變時間後所需付出的代價，超乎他們想像。\n"
     ]
    }
   ],
   "source": [
    "info_items = soup.find_all('div', 'table')\n",
    "\n",
    "for item in info_items:\n",
    "    level_list= []\n",
    "    name = item.find('div', 'movie_intro_info_r').h1.text.strip()\n",
    "    english_name = item.find('div', 'movie_intro_info_r').h3.text.strip()\n",
    "    release_time = item.find('div', 'movie_intro_info_r').span.text.split('：')[-1].strip()\n",
    "    \n",
    "    level_items = soup.find_all('div', 'level_name_box')\n",
    "    level = item.find_all('div', 'level_name')\n",
    "    for item in level:\n",
    "        level = item.find('a').text.strip()\n",
    "        level_list.append(level)\n",
    "        \n",
    "    intro_items = soup.find_all('div', 'gray_infobox storeinfo')\n",
    "    for item in intro_items:\n",
    "        intro=item.find('div', 'gray_infobox_inner').span.text.strip()\n",
    "        \n",
    "    print('{},{},{},{},{}'.format(name, english_name, release_time, level_list,intro))"
   ]
  },
  {
   "cell_type": "code",
   "execution_count": 131,
   "metadata": {},
   "outputs": [],
   "source": [
    "import csv\n",
    "\n",
    "info_items = soup.find_all('div', 'table')\n",
    "\n",
    "with open('HW#2.csv', 'w', encoding='utf-8-sig', newline='') as csv_file:\n",
    "    \n",
    "    csv_writer = csv.writer(csv_file)\n",
    "    csv_writer.writerow(['電影片名', '電影英文片名', '上映時間', '分類', '劇情介紹'])\n",
    "\n",
    "    for item in info_items:\n",
    "        level_list= []\n",
    "        name = item.find('div', 'movie_intro_info_r').h1.text.strip()\n",
    "        english_name = item.find('div', 'movie_intro_info_r').h3.text.strip()\n",
    "        release_time = item.find('div', 'movie_intro_info_r').span.text.split('：')[-1].strip()\n",
    "\n",
    "        level_items = soup.find_all('div', 'level_name_box')\n",
    "        level = item.find_all('div', 'level_name')\n",
    "        for item in level:\n",
    "            level = item.find('a').text.strip()\n",
    "            level_list.append(level)\n",
    "\n",
    "        intro_items = soup.find_all('div', 'gray_infobox storeinfo')\n",
    "        for item in intro_items:\n",
    "            intro=item.find('div', 'gray_infobox_inner').span.text.strip()\n",
    "        \n",
    "        csv_writer.writerow([name, english_name, release_time, level_list,intro])"
   ]
  },
  {
   "cell_type": "code",
   "execution_count": null,
   "metadata": {},
   "outputs": [],
   "source": []
  },
  {
   "cell_type": "code",
   "execution_count": 133,
   "metadata": {},
   "outputs": [],
   "source": [
    "import requests\n",
    "from bs4 import BeautifulSoup\n",
    "import csv\n",
    "\n",
    "with open('HW#2.csv', 'w', encoding='utf-8-sig', newline='') as csv_file:\n",
    "    \n",
    "    csv_writer = csv.writer(csv_file)\n",
    "    csv_writer.writerow(['電影片名', '上映時間', '分類', '劇情介紹'])\n",
    "    \n",
    "    for i in range(1,11):\n",
    "        url = 'https://movies.yahoo.com.tw/movieinfo_main/'+str(i)\n",
    "        response = requests.get(url=url)\n",
    "        level_list= []\n",
    "\n",
    "        soup = BeautifulSoup(response.text, 'lxml')\n",
    "        info_items = soup.find_all('div', 'table')\n",
    "        if str(info_items) == \"[]\":\n",
    "            continue\n",
    "\n",
    "        for item in info_items:\n",
    "            name = item.find('div', 'movie_intro_info_r').h1.text.strip()\n",
    "            #english_name = item.find('div', 'movie_intro_info_r').h3.text.strip()\n",
    "            release_time = item.find('div', 'movie_intro_info_r').span.text.split('：')[-1].strip()\n",
    "            level_items = soup.find_all('div', 'level_name_box')\n",
    "            level = item.find_all('div', 'level_name')\n",
    "        for item in level:\n",
    "            level = item.find('a').text.strip()\n",
    "            level_list.append(level)\n",
    "\n",
    "        intro_items = soup.find_all('div', 'gray_infobox storeinfo')\n",
    "        for item in intro_items:\n",
    "            intro=item.find('div', 'gray_infobox_inner').span.text.strip()\n",
    "\n",
    "        #print('{},{},{},{},{}'.format(name, release_time, level_list,intro))\n",
    "        #print()\n",
    "        csv_writer.writerow([name, release_time, level_list,intro])"
   ]
  },
  {
   "cell_type": "code",
   "execution_count": null,
   "metadata": {},
   "outputs": [],
   "source": []
  }
 ],
 "metadata": {
  "kernelspec": {
   "display_name": "Python 3",
   "language": "python",
   "name": "python3"
  },
  "language_info": {
   "codemirror_mode": {
    "name": "ipython",
    "version": 3
   },
   "file_extension": ".py",
   "mimetype": "text/x-python",
   "name": "python",
   "nbconvert_exporter": "python",
   "pygments_lexer": "ipython3",
   "version": "3.7.6"
  }
 },
 "nbformat": 4,
 "nbformat_minor": 4
}
