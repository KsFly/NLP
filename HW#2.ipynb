{
 "cells": [
  {
   "cell_type": "code",
   "execution_count": 10,
   "metadata": {},
   "outputs": [],
   "source": [
    "import requests\n",
    "from bs4 import BeautifulSoup\n",
    "\n",
    "url = 'https://movies.yahoo.com.tw/movieinfo_main/2'\n",
    "response = requests.get(url=url)\n",
    "\n",
    "soup = BeautifulSoup(response.text, 'lxml')"
   ]
  },
  {
   "cell_type": "code",
   "execution_count": 24,
   "metadata": {},
   "outputs": [
    {
     "name": "stdout",
     "output_type": "stream",
     "text": [
      "玩命關頭,The Fast and the Furious,2001-10-13,動作\n"
     ]
    }
   ],
   "source": [
    "info_items = soup.find_all('div', 'table')\n",
    "\n",
    "for item in info_items:\n",
    "    name = item.find('div', 'movie_intro_info_r').h1.text.strip()\n",
    "    english_name = item.find('div', 'movie_intro_info_r').h3.text.strip()\n",
    "    release_time = item.find('div', 'movie_intro_info_r').span.text.split('：')[-1].strip()\n",
    "    level_items = soup.find_all('div', 'level_name_box')\n",
    "    for item in level_items:\n",
    "        level = item.find('div', 'level_name').a.text.strip()\n",
    "    \n",
    "    print('{},{},{},{}'.format(name, english_name, release_time, level))"
   ]
  },
  {
   "cell_type": "code",
   "execution_count": 27,
   "metadata": {},
   "outputs": [
    {
     "name": "stdout",
     "output_type": "stream",
     "text": [
      "一世狂野,Blow,2001-10-12,劇情\n",
      "玩命關頭,The Fast and the Furious,2001-10-13,動作\n",
      "戰雲密佈,Storm Catcher,2001-10-13,動作\n",
      "騎士風雲錄,A Knight's Tale,2001-10-19,動作\n",
      "金法尤物,Legally Blonde,2001-10-19,喜劇\n",
      "瘋狂世界,Rat Race,2001-11-02,冒險\n",
      "震撼教育,Training Day,2001-10-26,劇情\n",
      "神鬼第六感,The Others,2001-10-24,劇情\n"
     ]
    }
   ],
   "source": [
    "for i in range(10):\n",
    "    url = 'https://movies.yahoo.com.tw/movieinfo_main/'+str(i)\n",
    "    response = requests.get(url=url)\n",
    "\n",
    "    soup = BeautifulSoup(response.text, 'lxml')\n",
    "    info_items = soup.find_all('div', 'table')\n",
    "\n",
    "    for item in info_items:\n",
    "        name = item.find('div', 'movie_intro_info_r').h1.text.strip()\n",
    "        english_name = item.find('div', 'movie_intro_info_r').h3.text.strip()\n",
    "        release_time = item.find('div', 'movie_intro_info_r').span.text.split('：')[-1].strip()\n",
    "        level_items = soup.find_all('div', 'level_name_box')\n",
    "        for item in level_items:\n",
    "            level = item.find('div', 'level_name').a.text.strip()\n",
    "\n",
    "        print('{},{},{},{}'.format(name, english_name, release_time, level))"
   ]
  },
  {
   "cell_type": "code",
   "execution_count": null,
   "metadata": {},
   "outputs": [],
   "source": []
  }
 ],
 "metadata": {
  "kernelspec": {
   "display_name": "Python 3",
   "language": "python",
   "name": "python3"
  },
  "language_info": {
   "codemirror_mode": {
    "name": "ipython",
    "version": 3
   },
   "file_extension": ".py",
   "mimetype": "text/x-python",
   "name": "python",
   "nbconvert_exporter": "python",
   "pygments_lexer": "ipython3",
   "version": "3.7.6"
  }
 },
 "nbformat": 4,
 "nbformat_minor": 4
}
